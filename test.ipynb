{
 "cells": [
  {
   "cell_type": "code",
   "execution_count": 3,
   "metadata": {},
   "outputs": [
    {
     "name": "stdout",
     "output_type": "stream",
     "text": [
      "MAGENE C406 PRO\n",
      "start_time 2023-05-01 09:41:33\n",
      "end_time: 2023-05-01 10:08:44\n",
      "run_id: 1682905293000\n",
      "length: 7480.0\n",
      "average_heartrate: None\n",
      "cycling\n",
      "name: cycling form MAGENE C406 PRO\n"
     ]
    }
   ],
   "source": [
    "from fit_tool.fit_file import FitFile\n",
    "from fit_tool.profile.messages.session_message import SessionMessage\n",
    "from fit_tool.profile.messages.activity_message import ActivityMessage\n",
    "from fit_tool.profile.messages.record_message import RecordMessage\n",
    "from fit_tool.profile.messages.software_message import SoftwareMessage\n",
    "from datetime import datetime\n",
    "from fit_tool.profile.profile_type import Sport\n",
    "\n",
    "import s2sphere as s2\n",
    "\n",
    "\n",
    "fit_data = FitFile.from_file('./FIT_OUT/MAGENE_C406Pro_2023-05-01_094133_390425_1683299553.fit')\n",
    "\n",
    "\n",
    "polyline_contrainer = []\n",
    "polylines = []\n",
    "\n",
    "for record in fit_data.records:\n",
    "    message = record.message\n",
    "\n",
    "    if(isinstance(message, SessionMessage)):\n",
    "        start_time = datetime.fromtimestamp(message.start_time / 1000)\n",
    "        run_id = message.start_time\n",
    "        end_time = datetime.fromtimestamp((message.start_time + message.total_timer_time * 1000) / 1000)\n",
    "        length =  message.total_distance\n",
    "        average_heartrate = message.avg_heart_rate if message.avg_heart_rate != 0 else None\n",
    "        type = Sport(message.sport).name.lower()\n",
    "\n",
    "        \n",
    "        print(f\"start_time {start_time}\")\n",
    "        print(f\"end_time: {end_time}\")\n",
    "        print(f\"run_id: {run_id}\")\n",
    "        print(f\"length: {length}\")\n",
    "        print(f\"average_heartrate: {average_heartrate}\")\n",
    "        print(f\"{type}\")\n",
    "\n",
    "\n",
    "\n",
    "\n",
    "\n",
    "    if(isinstance(message, SoftwareMessage)):\n",
    "        if message.part_number != \"USER_OPERATION\":\n",
    "          source = message.part_number\n",
    "          print(f\"{source}\")\n",
    "        \n",
    "                    \n",
    "\n",
    "    # if(isinstance(message, ActivityMessage)):\n",
    "    #     print(f\"{message.local_timestamp}\")\n",
    "    #     print(f\"{message.total_timer_time}\")\n",
    "    #     print(f\"{message.type}\")\n",
    "\n",
    "\n",
    "    if(isinstance(message, RecordMessage)):\n",
    "        if (message.position_lat != None and message.position_long!=None):\n",
    "          polylines.append(s2.LatLng.from_degrees(message.position_lat, message.position_long))\n",
    "        \n",
    "\n",
    "\n",
    "name = f\"{type} form {source}\"\n",
    "\n",
    "\n",
    "print(f\"name: {name}\")"
   ]
  },
  {
   "cell_type": "code",
   "execution_count": 5,
   "metadata": {},
   "outputs": [
    {
     "name": "stdout",
     "output_type": "stream",
     "text": [
      "2023-05-01 10:08:44\n"
     ]
    }
   ],
   "source": [
    "print(end_time)"
   ]
  },
  {
   "cell_type": "code",
   "execution_count": null,
   "metadata": {},
   "outputs": [],
   "source": []
  }
 ],
 "metadata": {
  "kernelspec": {
   "display_name": ".venv",
   "language": "python",
   "name": "python3"
  },
  "language_info": {
   "codemirror_mode": {
    "name": "ipython",
    "version": 3
   },
   "file_extension": ".py",
   "mimetype": "text/x-python",
   "name": "python",
   "nbconvert_exporter": "python",
   "pygments_lexer": "ipython3",
   "version": "3.11.3"
  },
  "orig_nbformat": 4
 },
 "nbformat": 4,
 "nbformat_minor": 2
}
