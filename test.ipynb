{
 "cells": [
  {
   "cell_type": "code",
   "execution_count": 8,
   "metadata": {},
   "outputs": [
    {
     "name": "stdout",
     "output_type": "stream",
     "text": [
      "parse fit file\n",
      "start_time 2023-05-01 09:41:33\n"
     ]
    }
   ],
   "source": [
    "from fit_tool.fit_file import FitFile\n",
    "from fit_tool.profile.messages.session_message import SessionMessage\n",
    "from datetime import datetime\n",
    "\n",
    "\n",
    "def parse_fit_file():\n",
    "    print('parse fit file')\n",
    "\n",
    "    fit_data = FitFile.from_file('./FIT_OUT/MAGENE_C406Pro_2023-05-01_094133_390425_1683299553.fit')\n",
    "\n",
    "    for record in fit_data.records:\n",
    "        message = record.message\n",
    "\n",
    "        if(isinstance(message, SessionMessage)):\n",
    "            print(f\"start_time {datetime.fromtimestamp(message.start_time / 1000)}\")\n",
    "\n",
    "\n",
    "if __name__ == \"__main__\":\n",
    "    parse_fit_file()"
   ]
  }
 ],
 "metadata": {
  "kernelspec": {
   "display_name": ".venv",
   "language": "python",
   "name": "python3"
  },
  "language_info": {
   "codemirror_mode": {
    "name": "ipython",
    "version": 3
   },
   "file_extension": ".py",
   "mimetype": "text/x-python",
   "name": "python",
   "nbconvert_exporter": "python",
   "pygments_lexer": "ipython3",
   "version": "3.11.4"
  },
  "orig_nbformat": 4
 },
 "nbformat": 4,
 "nbformat_minor": 2
}
